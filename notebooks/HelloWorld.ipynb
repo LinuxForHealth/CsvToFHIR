{
 "cells": [
  {
   "cell_type": "markdown",
   "id": "10222998-aa50-40d7-8627-8d0a46db7990",
   "metadata": {},
   "source": [
    "# Hello World - CsvToFhir Sample Notebook\n",
    "\n",
    "This notebook provides a simple example which integrates a JupyterLab notebook with the CsvToFhir development environment.\n"
   ]
  },
  {
   "cell_type": "code",
   "execution_count": 1,
   "id": "26661295-12f2-4802-a06e-7e85ed907310",
   "metadata": {},
   "outputs": [],
   "source": [
    "from linuxforhealth.csvtofhir.pipeline.tasks import add_row_num\n",
    "import pandas as pd\n"
   ]
  },
  {
   "cell_type": "code",
   "execution_count": 2,
   "id": "a140efbd-9f28-4359-87ee-5b6ee0f425ba",
   "metadata": {},
   "outputs": [
    {
     "data": {
      "text/html": [
       "<div>\n",
       "<style scoped>\n",
       "    .dataframe tbody tr th:only-of-type {\n",
       "        vertical-align: middle;\n",
       "    }\n",
       "\n",
       "    .dataframe tbody tr th {\n",
       "        vertical-align: top;\n",
       "    }\n",
       "\n",
       "    .dataframe thead th {\n",
       "        text-align: right;\n",
       "    }\n",
       "</style>\n",
       "<table border=\"1\" class=\"dataframe\">\n",
       "  <thead>\n",
       "    <tr style=\"text-align: right;\">\n",
       "      <th></th>\n",
       "      <th>hospitalId</th>\n",
       "      <th>encounterId</th>\n",
       "      <th>patientId</th>\n",
       "      <th>sex</th>\n",
       "      <th>dateOfBirth</th>\n",
       "      <th>givenName</th>\n",
       "      <th>familyName</th>\n",
       "      <th>ssn</th>\n",
       "      <th>state</th>\n",
       "      <th>rowNum</th>\n",
       "    </tr>\n",
       "  </thead>\n",
       "  <tbody>\n",
       "    <tr>\n",
       "      <th>0</th>\n",
       "      <td>hospa</td>\n",
       "      <td>ENC1111</td>\n",
       "      <td>MRN1234</td>\n",
       "      <td>male</td>\n",
       "      <td>1951-07-06</td>\n",
       "      <td>Thomas</td>\n",
       "      <td>Jones</td>\n",
       "      <td>123-45-6789</td>\n",
       "      <td>MN</td>\n",
       "      <td>1</td>\n",
       "    </tr>\n",
       "  </tbody>\n",
       "</table>\n",
       "</div>"
      ],
      "text/plain": [
       "  hospitalId encounterId patientId   sex dateOfBirth givenName familyName  \\\n",
       "0      hospa     ENC1111   MRN1234  male  1951-07-06    Thomas      Jones   \n",
       "\n",
       "           ssn state  rowNum  \n",
       "0  123-45-6789    MN       1  "
      ]
     },
     "metadata": {},
     "output_type": "display_data"
    }
   ],
   "source": [
    "data_records = {\n",
    "    \"hospitalId\": [\"hospa\"],\n",
    "    \"encounterId\": [\"ENC1111\"],\n",
    "    \"patientId\": [\"MRN1234\"],\n",
    "    \"sex\": [\"male\"],\n",
    "    \"dateOfBirth\": [\"1951-07-06\"],\n",
    "    \"givenName\": [\"Thomas\"],\n",
    "    \"familyName\": [\"Jones\"],\n",
    "    \"ssn\": [\"123-45-6789\"],\n",
    "    \"state\": [\"MN\"]\n",
    "}\n",
    "\n",
    "df = pd.DataFrame(data_records)\n",
    "df = add_row_num(df)\n",
    "display(df)\n"
   ]
  }
 ],
 "metadata": {
  "kernelspec": {
   "display_name": "Python 3 (ipykernel)",
   "language": "python",
   "name": "python3"
  },
  "language_info": {
   "codemirror_mode": {
    "name": "ipython",
    "version": 3
   },
   "file_extension": ".py",
   "mimetype": "text/x-python",
   "name": "python",
   "nbconvert_exporter": "python",
   "pygments_lexer": "ipython3",
   "version": "3.10.4"
  }
 },
 "nbformat": 4,
 "nbformat_minor": 5
}
